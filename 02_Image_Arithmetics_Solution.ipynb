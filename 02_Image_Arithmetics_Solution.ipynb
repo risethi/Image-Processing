{
 "cells": [
  {
   "cell_type": "markdown",
   "metadata": {},
   "source": [
    "# Images\n",
    "## This notebook outlines the math of the Image manipulation used in OpenCV library\n",
    "\n",
    "- Image Math\n",
    "- Numpy Arrays\n",
    "\n",
    "**Image Operations**\n",
    "- add\n",
    "- subtract\n",
    "- bitwise"
   ]
  },
  {
   "cell_type": "markdown",
   "metadata": {},
   "source": [
    "### Import the necessary libraries"
   ]
  },
  {
   "cell_type": "code",
   "execution_count": 5,
   "metadata": {},
   "outputs": [],
   "source": [
    "from __future__ import print_function\n",
    "import argparse\n",
    "import cv2\n",
    "import numpy as np"
   ]
  },
  {
   "cell_type": "markdown",
   "metadata": {},
   "source": [
    "### Load an image\n",
    "#### imread( )"
   ]
  },
  {
   "cell_type": "code",
   "execution_count": 6,
   "metadata": {},
   "outputs": [],
   "source": [
    "image = cv2.imread(\"image.jpg\")"
   ]
  },
  {
   "cell_type": "code",
   "execution_count": 7,
   "metadata": {},
   "outputs": [
    {
     "data": {
      "text/plain": [
       "array([[[254, 254, 254],\n",
       "        [254, 254, 254],\n",
       "        [254, 254, 254],\n",
       "        ...,\n",
       "        [237, 240, 244],\n",
       "        [233, 236, 240],\n",
       "        [227, 230, 234]],\n",
       "\n",
       "       [[254, 254, 254],\n",
       "        [254, 254, 254],\n",
       "        [254, 254, 254],\n",
       "        ...,\n",
       "        [237, 240, 244],\n",
       "        [235, 238, 242],\n",
       "        [231, 234, 238]],\n",
       "\n",
       "       [[254, 254, 254],\n",
       "        [254, 254, 254],\n",
       "        [254, 254, 254],\n",
       "        ...,\n",
       "        [238, 239, 243],\n",
       "        [235, 238, 242],\n",
       "        [232, 235, 239]],\n",
       "\n",
       "       ...,\n",
       "\n",
       "       [[246, 241, 238],\n",
       "        [246, 241, 238],\n",
       "        [246, 241, 238],\n",
       "        ...,\n",
       "        [242, 237, 236],\n",
       "        [242, 237, 236],\n",
       "        [242, 237, 236]],\n",
       "\n",
       "       [[246, 241, 238],\n",
       "        [246, 241, 238],\n",
       "        [246, 241, 238],\n",
       "        ...,\n",
       "        [243, 238, 237],\n",
       "        [243, 238, 237],\n",
       "        [243, 238, 237]],\n",
       "\n",
       "       [[247, 242, 239],\n",
       "        [247, 242, 239],\n",
       "        [247, 242, 239],\n",
       "        ...,\n",
       "        [243, 238, 237],\n",
       "        [243, 238, 237],\n",
       "        [243, 238, 237]]], dtype=uint8)"
      ]
     },
     "execution_count": 7,
     "metadata": {},
     "output_type": "execute_result"
    }
   ],
   "source": [
    "image"
   ]
  },
  {
   "cell_type": "markdown",
   "metadata": {},
   "source": [
    "Images are NumPy arrays, stored as unsigned 8 bit integers.\n",
    "\n",
    "- values of our image's pixels will **always** be in the range [0, 255]. \n",
    "- Why???"
   ]
  },
  {
   "cell_type": "markdown",
   "metadata": {},
   "source": []
  },
  {
   "cell_type": "code",
   "execution_count": 13,
   "metadata": {},
   "outputs": [
    {
     "name": "stdout",
     "output_type": "stream",
     "text": [
      "wrap around: [44]\n",
      "wrap around: [206]\n"
     ]
    }
   ],
   "source": [
    "print(f\"wrap around: {np.uint8([200]) + np.uint8([100])}\")\n",
    "print(f\"wrap around: {np.uint8([50]) - np.uint8([100])}\")"
   ]
  },
  {
   "cell_type": "markdown",
   "metadata": {},
   "source": [
    "### Overflow the add and subtract functions"
   ]
  },
  {
   "cell_type": "code",
   "execution_count": 14,
   "metadata": {},
   "outputs": [
    {
     "name": "stdout",
     "output_type": "stream",
     "text": [
      "Max of 255: [[255]]\n",
      "Min of 0: [[0]]\n"
     ]
    }
   ],
   "source": [
    "print(f\"Max of 255: {cv2.add(np.uint8([200]), np.uint8([100]))}\")\n",
    "print(f\"Min of 0: {cv2.subtract(np.uint8([50]), np.uint8([100]))}\")"
   ]
  },
  {
   "cell_type": "markdown",
   "metadata": {},
   "source": [
    "## Image Methods\n",
    "- cv2.add( )\n",
    "- cv2.subtract ( )"
   ]
  },
  {
   "cell_type": "markdown",
   "metadata": {},
   "source": [
    "## cv2.add( )\n",
    "\n",
    "**Image enhancer**\n",
    "- Increase the intensity of all pixels in our image by 100\n",
    "\n",
    "Steps\n",
    "- Constructing a NumPy array that is the same size of our matrix (filled with ones)\n",
    "- Multiplying it by 100 to create an array filled with 100's. \n",
    "- Simply add the images together\n",
    "\n",
    "You will notice how the image is \"brighter\" than the original.\n",
    "\n"
   ]
  },
  {
   "cell_type": "code",
   "execution_count": 15,
   "metadata": {
    "collapsed": true
   },
   "outputs": [
    {
     "data": {
      "text/plain": [
       "array([[[100, 100, 100],\n",
       "        [100, 100, 100],\n",
       "        [100, 100, 100],\n",
       "        ...,\n",
       "        [100, 100, 100],\n",
       "        [100, 100, 100],\n",
       "        [100, 100, 100]],\n",
       "\n",
       "       [[100, 100, 100],\n",
       "        [100, 100, 100],\n",
       "        [100, 100, 100],\n",
       "        ...,\n",
       "        [100, 100, 100],\n",
       "        [100, 100, 100],\n",
       "        [100, 100, 100]],\n",
       "\n",
       "       [[100, 100, 100],\n",
       "        [100, 100, 100],\n",
       "        [100, 100, 100],\n",
       "        ...,\n",
       "        [100, 100, 100],\n",
       "        [100, 100, 100],\n",
       "        [100, 100, 100]],\n",
       "\n",
       "       ...,\n",
       "\n",
       "       [[100, 100, 100],\n",
       "        [100, 100, 100],\n",
       "        [100, 100, 100],\n",
       "        ...,\n",
       "        [100, 100, 100],\n",
       "        [100, 100, 100],\n",
       "        [100, 100, 100]],\n",
       "\n",
       "       [[100, 100, 100],\n",
       "        [100, 100, 100],\n",
       "        [100, 100, 100],\n",
       "        ...,\n",
       "        [100, 100, 100],\n",
       "        [100, 100, 100],\n",
       "        [100, 100, 100]],\n",
       "\n",
       "       [[100, 100, 100],\n",
       "        [100, 100, 100],\n",
       "        [100, 100, 100],\n",
       "        ...,\n",
       "        [100, 100, 100],\n",
       "        [100, 100, 100],\n",
       "        [100, 100, 100]]], dtype=uint8)"
      ]
     },
     "execution_count": 15,
     "metadata": {},
     "output_type": "execute_result"
    }
   ],
   "source": [
    "M = np.ones(image.shape, dtype = \"uint8\") * 100\n",
    "M"
   ]
  },
  {
   "cell_type": "code",
   "execution_count": 16,
   "metadata": {
    "collapsed": true
   },
   "outputs": [
    {
     "data": {
      "text/plain": [
       "array([[[254, 254, 254],\n",
       "        [254, 254, 254],\n",
       "        [254, 254, 254],\n",
       "        ...,\n",
       "        [237, 240, 244],\n",
       "        [233, 236, 240],\n",
       "        [227, 230, 234]],\n",
       "\n",
       "       [[254, 254, 254],\n",
       "        [254, 254, 254],\n",
       "        [254, 254, 254],\n",
       "        ...,\n",
       "        [237, 240, 244],\n",
       "        [235, 238, 242],\n",
       "        [231, 234, 238]],\n",
       "\n",
       "       [[254, 254, 254],\n",
       "        [254, 254, 254],\n",
       "        [254, 254, 254],\n",
       "        ...,\n",
       "        [238, 239, 243],\n",
       "        [235, 238, 242],\n",
       "        [232, 235, 239]],\n",
       "\n",
       "       ...,\n",
       "\n",
       "       [[246, 241, 238],\n",
       "        [246, 241, 238],\n",
       "        [246, 241, 238],\n",
       "        ...,\n",
       "        [242, 237, 236],\n",
       "        [242, 237, 236],\n",
       "        [242, 237, 236]],\n",
       "\n",
       "       [[246, 241, 238],\n",
       "        [246, 241, 238],\n",
       "        [246, 241, 238],\n",
       "        ...,\n",
       "        [243, 238, 237],\n",
       "        [243, 238, 237],\n",
       "        [243, 238, 237]],\n",
       "\n",
       "       [[247, 242, 239],\n",
       "        [247, 242, 239],\n",
       "        [247, 242, 239],\n",
       "        ...,\n",
       "        [243, 238, 237],\n",
       "        [243, 238, 237],\n",
       "        [243, 238, 237]]], dtype=uint8)"
      ]
     },
     "execution_count": 16,
     "metadata": {},
     "output_type": "execute_result"
    }
   ],
   "source": [
    "image"
   ]
  },
  {
   "cell_type": "code",
   "execution_count": 17,
   "metadata": {
    "collapsed": true
   },
   "outputs": [
    {
     "data": {
      "text/plain": [
       "array([[[255, 255, 255],\n",
       "        [255, 255, 255],\n",
       "        [255, 255, 255],\n",
       "        ...,\n",
       "        [255, 255, 255],\n",
       "        [255, 255, 255],\n",
       "        [255, 255, 255]],\n",
       "\n",
       "       [[255, 255, 255],\n",
       "        [255, 255, 255],\n",
       "        [255, 255, 255],\n",
       "        ...,\n",
       "        [255, 255, 255],\n",
       "        [255, 255, 255],\n",
       "        [255, 255, 255]],\n",
       "\n",
       "       [[255, 255, 255],\n",
       "        [255, 255, 255],\n",
       "        [255, 255, 255],\n",
       "        ...,\n",
       "        [255, 255, 255],\n",
       "        [255, 255, 255],\n",
       "        [255, 255, 255]],\n",
       "\n",
       "       ...,\n",
       "\n",
       "       [[255, 255, 255],\n",
       "        [255, 255, 255],\n",
       "        [255, 255, 255],\n",
       "        ...,\n",
       "        [255, 255, 255],\n",
       "        [255, 255, 255],\n",
       "        [255, 255, 255]],\n",
       "\n",
       "       [[255, 255, 255],\n",
       "        [255, 255, 255],\n",
       "        [255, 255, 255],\n",
       "        ...,\n",
       "        [255, 255, 255],\n",
       "        [255, 255, 255],\n",
       "        [255, 255, 255]],\n",
       "\n",
       "       [[255, 255, 255],\n",
       "        [255, 255, 255],\n",
       "        [255, 255, 255],\n",
       "        ...,\n",
       "        [255, 255, 255],\n",
       "        [255, 255, 255],\n",
       "        [255, 255, 255]]], dtype=uint8)"
      ]
     },
     "execution_count": 17,
     "metadata": {},
     "output_type": "execute_result"
    }
   ],
   "source": [
    "added_image = cv2.add(image, M)\n",
    "added_image"
   ]
  },
  {
   "cell_type": "code",
   "execution_count": 19,
   "metadata": {},
   "outputs": [
    {
     "data": {
      "text/plain": [
       "13"
      ]
     },
     "execution_count": 19,
     "metadata": {},
     "output_type": "execute_result"
    }
   ],
   "source": [
    "cv2.imshow(\"Original\", image)\n",
    "cv2.imshow(\"Added\", added_image)\n",
    "cv2.waitKey(0)"
   ]
  },
  {
   "cell_type": "markdown",
   "metadata": {},
   "source": [
    "## Task: Take a low-contrast image from your desktop and enhance it\n",
    "- Load the low-contrast image\n",
    "- Study the loaded images' details\n",
    "- Create a brighter mask as above as the same size of the laoded image\n",
    "- Use cv2.add( ) to perform image enhancement"
   ]
  },
  {
   "cell_type": "code",
   "execution_count": null,
   "metadata": {},
   "outputs": [],
   "source": []
  },
  {
   "cell_type": "markdown",
   "metadata": {},
   "source": [
    "## cv2. subtract ( )\n",
    "**Image enhancer**\n",
    "- Decrease the intensity of all pixels in our image by 100\n",
    "\n",
    "Steps\n",
    "- Constructing a NumPy array that is the same size of our matrix (filled with ones)\n",
    "- Multiplying it by 100 to create an array filled with 100's. \n",
    "- Simply subtract the images together\n",
    "\n",
    "You will notice how the image is \"darker\" than the original.\n"
   ]
  },
  {
   "cell_type": "code",
   "execution_count": 20,
   "metadata": {
    "collapsed": true
   },
   "outputs": [
    {
     "data": {
      "text/plain": [
       "array([[[100, 100, 100],\n",
       "        [100, 100, 100],\n",
       "        [100, 100, 100],\n",
       "        ...,\n",
       "        [100, 100, 100],\n",
       "        [100, 100, 100],\n",
       "        [100, 100, 100]],\n",
       "\n",
       "       [[100, 100, 100],\n",
       "        [100, 100, 100],\n",
       "        [100, 100, 100],\n",
       "        ...,\n",
       "        [100, 100, 100],\n",
       "        [100, 100, 100],\n",
       "        [100, 100, 100]],\n",
       "\n",
       "       [[100, 100, 100],\n",
       "        [100, 100, 100],\n",
       "        [100, 100, 100],\n",
       "        ...,\n",
       "        [100, 100, 100],\n",
       "        [100, 100, 100],\n",
       "        [100, 100, 100]],\n",
       "\n",
       "       ...,\n",
       "\n",
       "       [[100, 100, 100],\n",
       "        [100, 100, 100],\n",
       "        [100, 100, 100],\n",
       "        ...,\n",
       "        [100, 100, 100],\n",
       "        [100, 100, 100],\n",
       "        [100, 100, 100]],\n",
       "\n",
       "       [[100, 100, 100],\n",
       "        [100, 100, 100],\n",
       "        [100, 100, 100],\n",
       "        ...,\n",
       "        [100, 100, 100],\n",
       "        [100, 100, 100],\n",
       "        [100, 100, 100]],\n",
       "\n",
       "       [[100, 100, 100],\n",
       "        [100, 100, 100],\n",
       "        [100, 100, 100],\n",
       "        ...,\n",
       "        [100, 100, 100],\n",
       "        [100, 100, 100],\n",
       "        [100, 100, 100]]], dtype=uint8)"
      ]
     },
     "execution_count": 20,
     "metadata": {},
     "output_type": "execute_result"
    }
   ],
   "source": [
    "M = np.ones(image.shape, dtype = \"uint8\") * 100\n",
    "M"
   ]
  },
  {
   "cell_type": "code",
   "execution_count": 22,
   "metadata": {
    "collapsed": true
   },
   "outputs": [
    {
     "data": {
      "text/plain": [
       "array([[[154, 154, 154],\n",
       "        [154, 154, 154],\n",
       "        [154, 154, 154],\n",
       "        ...,\n",
       "        [137, 140, 144],\n",
       "        [133, 136, 140],\n",
       "        [127, 130, 134]],\n",
       "\n",
       "       [[154, 154, 154],\n",
       "        [154, 154, 154],\n",
       "        [154, 154, 154],\n",
       "        ...,\n",
       "        [137, 140, 144],\n",
       "        [135, 138, 142],\n",
       "        [131, 134, 138]],\n",
       "\n",
       "       [[154, 154, 154],\n",
       "        [154, 154, 154],\n",
       "        [154, 154, 154],\n",
       "        ...,\n",
       "        [138, 139, 143],\n",
       "        [135, 138, 142],\n",
       "        [132, 135, 139]],\n",
       "\n",
       "       ...,\n",
       "\n",
       "       [[146, 141, 138],\n",
       "        [146, 141, 138],\n",
       "        [146, 141, 138],\n",
       "        ...,\n",
       "        [142, 137, 136],\n",
       "        [142, 137, 136],\n",
       "        [142, 137, 136]],\n",
       "\n",
       "       [[146, 141, 138],\n",
       "        [146, 141, 138],\n",
       "        [146, 141, 138],\n",
       "        ...,\n",
       "        [143, 138, 137],\n",
       "        [143, 138, 137],\n",
       "        [143, 138, 137]],\n",
       "\n",
       "       [[147, 142, 139],\n",
       "        [147, 142, 139],\n",
       "        [147, 142, 139],\n",
       "        ...,\n",
       "        [143, 138, 137],\n",
       "        [143, 138, 137],\n",
       "        [143, 138, 137]]], dtype=uint8)"
      ]
     },
     "execution_count": 22,
     "metadata": {},
     "output_type": "execute_result"
    }
   ],
   "source": [
    "subtracted_image = cv2.subtract(image, M)\n",
    "subtracted_image"
   ]
  },
  {
   "cell_type": "code",
   "execution_count": 23,
   "metadata": {},
   "outputs": [
    {
     "data": {
      "text/plain": [
       "13"
      ]
     },
     "execution_count": 23,
     "metadata": {},
     "output_type": "execute_result"
    }
   ],
   "source": [
    "cv2.imshow(\"Original\", image)\n",
    "cv2.imshow(\"Subtracted\", subtracted_image)\n",
    "cv2.waitKey(0)"
   ]
  },
  {
   "cell_type": "markdown",
   "metadata": {},
   "source": [
    "## Task: Take a high-contrast image from your desktop and enhance it\n",
    "- Load the washed-out high-contrast image\n",
    "- Study the loaded images' details\n",
    "- Create a darker mask as above as the same size of the laoded image\n",
    "- Use cv2.subtract( ) to perform image enhancement"
   ]
  },
  {
   "cell_type": "code",
   "execution_count": null,
   "metadata": {},
   "outputs": [],
   "source": []
  },
  {
   "cell_type": "markdown",
   "metadata": {},
   "source": [
    "## Bitwise operations\n",
    "- AND\n",
    "- OR\n",
    "- XOR\n",
    "- NOT"
   ]
  },
  {
   "cell_type": "markdown",
   "metadata": {},
   "source": [
    "### Draw a rectangle"
   ]
  },
  {
   "cell_type": "code",
   "execution_count": 25,
   "metadata": {},
   "outputs": [
    {
     "data": {
      "text/plain": [
       "13"
      ]
     },
     "execution_count": 25,
     "metadata": {},
     "output_type": "execute_result"
    }
   ],
   "source": [
    "rectangle = np.zeros((300, 300), dtype = \"uint8\")\n",
    "cv2.rectangle(rectangle, (25, 25), (275, 275), 255, -1)\n",
    "cv2.imshow(\"Rectangle\", rectangle)\n",
    "cv2.waitKey(0)"
   ]
  },
  {
   "cell_type": "markdown",
   "metadata": {},
   "source": [
    "### Draw a circle"
   ]
  },
  {
   "cell_type": "code",
   "execution_count": 26,
   "metadata": {},
   "outputs": [
    {
     "data": {
      "text/plain": [
       "13"
      ]
     },
     "execution_count": 26,
     "metadata": {},
     "output_type": "execute_result"
    }
   ],
   "source": [
    "circle = np.zeros((300, 300), dtype = \"uint8\")\n",
    "cv2.circle(circle, (150, 150), 150, 255, -1)\n",
    "cv2.imshow(\"Circle\", circle)\n",
    "cv2.waitKey(0)"
   ]
  },
  {
   "cell_type": "markdown",
   "metadata": {},
   "source": [
    "### Bitwise AND\n",
    "#### A bitwise 'AND' is only True when both rectangle and circle have a value that is 'ON'. \n",
    "\n",
    "- If both pixels have a value greater than zero, that pixel is turned 'ON' (i.e set to 255 in the output image). \n",
    "- If both pixels are not greater than zero, then the output pixel is left 'OFF' with a value of 0."
   ]
  },
  {
   "cell_type": "code",
   "execution_count": 27,
   "metadata": {},
   "outputs": [
    {
     "data": {
      "text/plain": [
       "13"
      ]
     },
     "execution_count": 27,
     "metadata": {},
     "output_type": "execute_result"
    }
   ],
   "source": [
    "bitwiseAnd = cv2.bitwise_and(rectangle, circle)\n",
    "cv2.imshow(\"AND\", bitwiseAnd)\n",
    "cv2.waitKey(0)"
   ]
  },
  {
   "cell_type": "markdown",
   "metadata": {},
   "source": [
    "### Bitwise OR\n",
    "#### A bitwise 'OR' is only True when either rectangle or circle have a value that is 'ON'. \n",
    "\n",
    "- If either pixels have a value greater than zero, that pixel is turned 'ON' (i.e set to 255 in the output image). \n",
    "- If both pixels are not greater than zero, then the output pixel is left 'OFF' with a value of 0."
   ]
  },
  {
   "cell_type": "code",
   "execution_count": 28,
   "metadata": {},
   "outputs": [
    {
     "data": {
      "text/plain": [
       "13"
      ]
     },
     "execution_count": 28,
     "metadata": {},
     "output_type": "execute_result"
    }
   ],
   "source": [
    "bitwiseOr = cv2.bitwise_or(rectangle, circle)\n",
    "cv2.imshow(\"OR\", bitwiseOr)\n",
    "cv2.waitKey(0)"
   ]
  },
  {
   "cell_type": "markdown",
   "metadata": {},
   "source": [
    "### Bitwise XOR\n",
    "#### A bitwise 'XOR' is identical to the 'OR' function, with one exception: \n",
    "\n",
    "- both rectangle and circle are not allowed to have values greater than 0."
   ]
  },
  {
   "cell_type": "code",
   "execution_count": 29,
   "metadata": {},
   "outputs": [
    {
     "data": {
      "text/plain": [
       "13"
      ]
     },
     "execution_count": 29,
     "metadata": {},
     "output_type": "execute_result"
    }
   ],
   "source": [
    "bitwiseXor = cv2.bitwise_xor(rectangle, circle)\n",
    "cv2.imshow(\"XOR\", bitwiseXor)\n",
    "cv2.waitKey(0)"
   ]
  },
  {
   "cell_type": "markdown",
   "metadata": {},
   "source": [
    "### Bitwise NOT\n",
    "### The bitwise 'NOT' inverts the values of the pixels\n",
    "- Pixels with a value of 255 become 0\n",
    "- Pixels with a value of 0 become 255"
   ]
  },
  {
   "cell_type": "code",
   "execution_count": 31,
   "metadata": {},
   "outputs": [
    {
     "data": {
      "text/plain": [
       "13"
      ]
     },
     "execution_count": 31,
     "metadata": {},
     "output_type": "execute_result"
    }
   ],
   "source": [
    "bitwiseNotCircle = cv2.bitwise_not(circle)\n",
    "cv2.imshow(\"NOT CIRCLE\", bitwiseNotCircle)\n",
    "\n",
    "bitwiseNotRect = cv2.bitwise_not(rectangle)\n",
    "cv2.imshow(\"NOT RECT\", bitwiseNotRect)\n",
    "cv2.waitKey(0)"
   ]
  },
  {
   "cell_type": "code",
   "execution_count": null,
   "metadata": {},
   "outputs": [],
   "source": []
  }
 ],
 "metadata": {
  "kernelspec": {
   "display_name": "testing",
   "language": "python",
   "name": "testing"
  },
  "language_info": {
   "codemirror_mode": {
    "name": "ipython",
    "version": 3
   },
   "file_extension": ".py",
   "mimetype": "text/x-python",
   "name": "python",
   "nbconvert_exporter": "python",
   "pygments_lexer": "ipython3",
   "version": "3.8.5"
  }
 },
 "nbformat": 4,
 "nbformat_minor": 4
}
