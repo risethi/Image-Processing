{
 "cells": [
  {
   "cell_type": "markdown",
   "metadata": {},
   "source": [
    "# Image Transformations - Rotation\n",
    "## This notebook outlines the different techniques used on images using OpenCV library\n",
    "\n",
    "**Image Transformations**\n",
    "- Translation\n",
    "- **Rotation**\n",
    "- Resizing"
   ]
  },
  {
   "cell_type": "markdown",
   "metadata": {},
   "source": [
    "### Import the necessary libraries"
   ]
  },
  {
   "cell_type": "code",
   "execution_count": 1,
   "metadata": {},
   "outputs": [],
   "source": [
    "from __future__ import print_function\n",
    "import argparse\n",
    "import cv2\n",
    "import numpy as np"
   ]
  },
  {
   "cell_type": "markdown",
   "metadata": {},
   "source": [
    "### Load an image\n",
    "#### imread( )"
   ]
  },
  {
   "cell_type": "code",
   "execution_count": 2,
   "metadata": {},
   "outputs": [],
   "source": [
    "image = cv2.imread(\"image.jpg\")"
   ]
  },
  {
   "cell_type": "code",
   "execution_count": 3,
   "metadata": {
    "scrolled": true
   },
   "outputs": [
    {
     "data": {
      "text/plain": [
       "array([[[254, 254, 254],\n",
       "        [254, 254, 254],\n",
       "        [254, 254, 254],\n",
       "        ...,\n",
       "        [237, 240, 244],\n",
       "        [233, 236, 240],\n",
       "        [227, 230, 234]],\n",
       "\n",
       "       [[254, 254, 254],\n",
       "        [254, 254, 254],\n",
       "        [254, 254, 254],\n",
       "        ...,\n",
       "        [237, 240, 244],\n",
       "        [235, 238, 242],\n",
       "        [231, 234, 238]],\n",
       "\n",
       "       [[254, 254, 254],\n",
       "        [254, 254, 254],\n",
       "        [254, 254, 254],\n",
       "        ...,\n",
       "        [238, 239, 243],\n",
       "        [235, 238, 242],\n",
       "        [232, 235, 239]],\n",
       "\n",
       "       ...,\n",
       "\n",
       "       [[246, 241, 238],\n",
       "        [246, 241, 238],\n",
       "        [246, 241, 238],\n",
       "        ...,\n",
       "        [242, 237, 236],\n",
       "        [242, 237, 236],\n",
       "        [242, 237, 236]],\n",
       "\n",
       "       [[246, 241, 238],\n",
       "        [246, 241, 238],\n",
       "        [246, 241, 238],\n",
       "        ...,\n",
       "        [243, 238, 237],\n",
       "        [243, 238, 237],\n",
       "        [243, 238, 237]],\n",
       "\n",
       "       [[247, 242, 239],\n",
       "        [247, 242, 239],\n",
       "        [247, 242, 239],\n",
       "        ...,\n",
       "        [243, 238, 237],\n",
       "        [243, 238, 237],\n",
       "        [243, 238, 237]]], dtype=uint8)"
      ]
     },
     "execution_count": 3,
     "metadata": {},
     "output_type": "execute_result"
    }
   ],
   "source": [
    "image"
   ]
  },
  {
   "cell_type": "markdown",
   "metadata": {},
   "source": [
    "### Load your favorite image and display it\n"
   ]
  },
  {
   "cell_type": "code",
   "execution_count": 4,
   "metadata": {},
   "outputs": [
    {
     "data": {
      "text/plain": [
       "13"
      ]
     },
     "execution_count": 4,
     "metadata": {},
     "output_type": "execute_result"
    }
   ],
   "source": [
    "image = cv2.imread(\"image.jpg\")\n",
    "cv2.imshow(\"Original\", image)\n",
    "cv2.waitKey(0)"
   ]
  },
  {
   "cell_type": "markdown",
   "metadata": {},
   "source": [
    "# Rotate an image"
   ]
  },
  {
   "cell_type": "markdown",
   "metadata": {},
   "source": [
    "Rotation is rotating an image by some angle θ\n",
    "- **θ** to represent by how many degrees to rotate the image\n",
    "\n",
    "When we rotate an image, we need to specify **around which point** we want to rotate. In most cases, you will want to rotate around the center of an image; however, OpenCV allows you to specify any **arbitrary point** you want to rotate around. Let’s just go ahead and rotate around the center of the image."
   ]
  },
  {
   "cell_type": "markdown",
   "metadata": {},
   "source": [
    "### Steps\n",
    "- Find the center of the image\n",
    "- Rotation Matrix R\n",
    "- Rotate the image "
   ]
  },
  {
   "cell_type": "markdown",
   "metadata": {},
   "source": [
    "#### Finding the Center of the image"
   ]
  },
  {
   "cell_type": "code",
   "execution_count": 17,
   "metadata": {},
   "outputs": [
    {
     "data": {
      "text/plain": [
       "(175, 114)"
      ]
     },
     "execution_count": 17,
     "metadata": {},
     "output_type": "execute_result"
    }
   ],
   "source": [
    "(h, w) = image.shape[:2]\n",
    "center = (w // 2, h // 2)\n",
    "center"
   ]
  },
  {
   "cell_type": "markdown",
   "metadata": {},
   "source": [
    "#### Rotation Matrix R\n",
    "Hint: Use **getRotationMatrix2D**\n",
    "\n",
    "**cv2.getRotationMatrix2D** function takes three arguments\n",
    "- the point at which we want to rotate the image around\n",
    "- θ, the number of degrees we are going to rotate the image\n",
    "- Scale of the image\n",
    "    - 1.0 --> No change in dimensions\n",
    "    - 2.0 --> Double the size\n",
    "    - 0.5 --> Half the size"
   ]
  },
  {
   "cell_type": "code",
   "execution_count": 18,
   "metadata": {},
   "outputs": [],
   "source": [
    "R = cv2.getRotationMatrix2D(center, 45, 1.0)"
   ]
  },
  {
   "cell_type": "markdown",
   "metadata": {},
   "source": [
    "### cv2. warpAffine function\n",
    "\n",
    "- The first argument is the image we wish to rotate \n",
    "- Second argument is our Rotation matrix R\n",
    "- Third argument is the dimensions (width and height) of our image"
   ]
  },
  {
   "cell_type": "code",
   "execution_count": 19,
   "metadata": {},
   "outputs": [],
   "source": [
    "rotated = cv2.warpAffine(image, R, (w, h))"
   ]
  },
  {
   "cell_type": "markdown",
   "metadata": {},
   "source": [
    "#### Display the rotated image"
   ]
  },
  {
   "cell_type": "code",
   "execution_count": 20,
   "metadata": {},
   "outputs": [
    {
     "data": {
      "text/plain": [
       "13"
      ]
     },
     "execution_count": 20,
     "metadata": {},
     "output_type": "execute_result"
    }
   ],
   "source": [
    "cv2.imshow(\"Rotated by 45 Degrees\", rotated)\n",
    "cv2.waitKey(0)"
   ]
  },
  {
   "cell_type": "markdown",
   "metadata": {},
   "source": [
    "### Rotate the image by -90 degrees"
   ]
  },
  {
   "cell_type": "code",
   "execution_count": 21,
   "metadata": {},
   "outputs": [
    {
     "data": {
      "text/plain": [
       "13"
      ]
     },
     "execution_count": 21,
     "metadata": {},
     "output_type": "execute_result"
    }
   ],
   "source": [
    "R = cv2.getRotationMatrix2D(center, -90, 1.0)\n",
    "rotated = cv2.warpAffine(image, R, (w, h))\n",
    "cv2.imshow(\"Rotated by -90 Degrees\", rotated)\n",
    "cv2.waitKey(0)"
   ]
  },
  {
   "cell_type": "markdown",
   "metadata": {},
   "source": [
    "### Rotate the image by 180 degrees"
   ]
  },
  {
   "cell_type": "code",
   "execution_count": 22,
   "metadata": {},
   "outputs": [
    {
     "data": {
      "text/plain": [
       "13"
      ]
     },
     "execution_count": 22,
     "metadata": {},
     "output_type": "execute_result"
    }
   ],
   "source": [
    "R = cv2.getRotationMatrix2D(center, 180, 1.0)\n",
    "rotated = cv2.warpAffine(image, R, (w, h))\n",
    "cv2.imshow(\"Rotated by 180 Degrees\", rotated)\n",
    "cv2.waitKey(0)"
   ]
  },
  {
   "cell_type": "markdown",
   "metadata": {},
   "source": [
    "### Finally, let's write a helper function **rotate( )** to rotate the image to 10 degrees\n",
    "\n",
    "Name of the function: rotate\n",
    "Parameters: \n",
    "- image\n",
    "- angle in degrees\n",
    "- center\n",
    "- scale"
   ]
  },
  {
   "cell_type": "code",
   "execution_count": 23,
   "metadata": {},
   "outputs": [],
   "source": [
    "def rotate(image, angle, center = None, scale = 1.0):\n",
    "    # Grab the dimensions of the image\n",
    "    (h, w) = image.shape[:2]\n",
    "    \n",
    "    # Calculate the center\n",
    "    if center is None:\n",
    "        center = (w // 2, h // 2)\n",
    "        \n",
    "    # Perform the rotation\n",
    "    R = cv2.getRotationMatrix2D(center, angle, scale)\n",
    "    rotated = cv2.warpAffine(image, R, (w, h))\n",
    "    \n",
    "    return rotated"
   ]
  },
  {
   "cell_type": "code",
   "execution_count": 27,
   "metadata": {},
   "outputs": [
    {
     "data": {
      "text/plain": [
       "13"
      ]
     },
     "execution_count": 27,
     "metadata": {},
     "output_type": "execute_result"
    }
   ],
   "source": [
    "rotated = rotate(image, 10)\n",
    "cv2.imshow(\"Rotated 10 degrees around center\", rotated)\n",
    "cv2.waitKey(0)"
   ]
  },
  {
   "cell_type": "markdown",
   "metadata": {},
   "source": [
    "### Rotate the image 10 degrees around a point in the image (200,200)"
   ]
  },
  {
   "cell_type": "code",
   "execution_count": 29,
   "metadata": {},
   "outputs": [
    {
     "data": {
      "text/plain": [
       "13"
      ]
     },
     "execution_count": 29,
     "metadata": {},
     "output_type": "execute_result"
    }
   ],
   "source": [
    "rotated = rotate(image, 10, center=(200,200))\n",
    "cv2.imshow(\"Rotated 10 degrees around 200,200\", rotated)\n",
    "cv2.waitKey(0)"
   ]
  },
  {
   "cell_type": "markdown",
   "metadata": {},
   "source": [
    "### Homework: Take any misaligned image and rotate them to position correctly\n",
    "- Load the image\n",
    "- Display the image\n",
    "- Note the coordinates for correct positioning\n",
    "- Rotate the image accordingly\n",
    "- Display the Rotated image"
   ]
  },
  {
   "cell_type": "code",
   "execution_count": null,
   "metadata": {},
   "outputs": [],
   "source": []
  }
 ],
 "metadata": {
  "kernelspec": {
   "display_name": "testing",
   "language": "python",
   "name": "testing"
  },
  "language_info": {
   "codemirror_mode": {
    "name": "ipython",
    "version": 3
   },
   "file_extension": ".py",
   "mimetype": "text/x-python",
   "name": "python",
   "nbconvert_exporter": "python",
   "pygments_lexer": "ipython3",
   "version": "3.8.5"
  }
 },
 "nbformat": 4,
 "nbformat_minor": 4
}
