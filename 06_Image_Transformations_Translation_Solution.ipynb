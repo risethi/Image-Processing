{
 "cells": [
  {
   "cell_type": "markdown",
   "metadata": {},
   "source": [
    "# Image Transformations - Translation\n",
    "## This notebook outlines the different techniques used on images using OpenCV library\n",
    "\n",
    "\n",
    "**Image Transformations**\n",
    "- **Translation**\n",
    "- Rotation\n",
    "- Resizing"
   ]
  },
  {
   "cell_type": "markdown",
   "metadata": {},
   "source": [
    "### Import the necessary libraries"
   ]
  },
  {
   "cell_type": "code",
   "execution_count": 1,
   "metadata": {},
   "outputs": [],
   "source": [
    "from __future__ import print_function\n",
    "import argparse\n",
    "import cv2\n",
    "import numpy as np"
   ]
  },
  {
   "cell_type": "markdown",
   "metadata": {},
   "source": [
    "### Load an image\n",
    "#### imread( )"
   ]
  },
  {
   "cell_type": "code",
   "execution_count": 2,
   "metadata": {},
   "outputs": [],
   "source": [
    "image = cv2.imread(\"image.jpg\")"
   ]
  },
  {
   "cell_type": "code",
   "execution_count": 3,
   "metadata": {
    "scrolled": true
   },
   "outputs": [
    {
     "data": {
      "text/plain": [
       "array([[[254, 254, 254],\n",
       "        [254, 254, 254],\n",
       "        [254, 254, 254],\n",
       "        ...,\n",
       "        [237, 240, 244],\n",
       "        [233, 236, 240],\n",
       "        [227, 230, 234]],\n",
       "\n",
       "       [[254, 254, 254],\n",
       "        [254, 254, 254],\n",
       "        [254, 254, 254],\n",
       "        ...,\n",
       "        [237, 240, 244],\n",
       "        [235, 238, 242],\n",
       "        [231, 234, 238]],\n",
       "\n",
       "       [[254, 254, 254],\n",
       "        [254, 254, 254],\n",
       "        [254, 254, 254],\n",
       "        ...,\n",
       "        [238, 239, 243],\n",
       "        [235, 238, 242],\n",
       "        [232, 235, 239]],\n",
       "\n",
       "       ...,\n",
       "\n",
       "       [[246, 241, 238],\n",
       "        [246, 241, 238],\n",
       "        [246, 241, 238],\n",
       "        ...,\n",
       "        [242, 237, 236],\n",
       "        [242, 237, 236],\n",
       "        [242, 237, 236]],\n",
       "\n",
       "       [[246, 241, 238],\n",
       "        [246, 241, 238],\n",
       "        [246, 241, 238],\n",
       "        ...,\n",
       "        [243, 238, 237],\n",
       "        [243, 238, 237],\n",
       "        [243, 238, 237]],\n",
       "\n",
       "       [[247, 242, 239],\n",
       "        [247, 242, 239],\n",
       "        [247, 242, 239],\n",
       "        ...,\n",
       "        [243, 238, 237],\n",
       "        [243, 238, 237],\n",
       "        [243, 238, 237]]], dtype=uint8)"
      ]
     },
     "execution_count": 3,
     "metadata": {},
     "output_type": "execute_result"
    }
   ],
   "source": [
    "image"
   ]
  },
  {
   "cell_type": "markdown",
   "metadata": {},
   "source": [
    "### Load your favorite image and display it\n"
   ]
  },
  {
   "cell_type": "code",
   "execution_count": 4,
   "metadata": {},
   "outputs": [
    {
     "data": {
      "text/plain": [
       "13"
      ]
     },
     "execution_count": 4,
     "metadata": {},
     "output_type": "execute_result"
    }
   ],
   "source": [
    "image = cv2.imread(\"image.jpg\")\n",
    "cv2.imshow(\"Original\", image)\n",
    "cv2.waitKey(0)"
   ]
  },
  {
   "cell_type": "markdown",
   "metadata": {},
   "source": [
    "# Translate an image"
   ]
  },
  {
   "cell_type": "markdown",
   "metadata": {},
   "source": [
    "Translation is the **shifting** of an image along the x and y axis. \n",
    "\n",
    "Using translation, we can shift an image up, down, left, or right, along with any combination of the above!\n",
    "\n",
    "**NOTE**: Translating (shifting) an image is given by a NumPy matrix in the form: **[[1, 0, shiftX], [0, 1, shiftY]]**\n",
    "\n",
    "You simply need to specify how many pixels you want to shift the image in the X and Y direction."
   ]
  },
  {
   "cell_type": "markdown",
   "metadata": {},
   "source": [
    "### Translation Matrix\n",
    "Translation matrix M is defined as a floating point array – this is important because OpenCV expects this matrix to be of floating point type. \n",
    "\n",
    "- The first row of the matrix is [1,0,tx], where tx is the number of pixels we will shift the image left or right. \n",
    "    - **Negative** values of tx will shift the image to the **left** \n",
    "    - **Positive** values of tx will shift the image to the **right**\n",
    "- The second row of the matrix is [0, 1, ty ], where ty is the number of pixels we will shift the image up or down. \n",
    "    - **Negative** value of ty will shift the image **up**\n",
    "    - **Positive** values of ty will shift the image **down**"
   ]
  },
  {
   "cell_type": "code",
   "execution_count": 14,
   "metadata": {},
   "outputs": [],
   "source": [
    "M = np.float32([[1, 0, 25], [0, 1, 50]])"
   ]
  },
  {
   "cell_type": "markdown",
   "metadata": {},
   "source": [
    "### cv2. warpAffine function\n",
    "\n",
    "- The first argument is the image we wish to shift \n",
    "- Second argument is our translation matrix M\n",
    "- Third argument is the dimensions (width and height) of our image"
   ]
  },
  {
   "cell_type": "code",
   "execution_count": 15,
   "metadata": {},
   "outputs": [],
   "source": [
    "shifted = cv2.warpAffine(image, M, (image.shape[1], image.shape[0]))"
   ]
  },
  {
   "cell_type": "markdown",
   "metadata": {},
   "source": [
    "### **Task**: Translate the image 25 pixels to the right and 50 pixels down\n",
    "Hint: Translation Matrix, warpAffine"
   ]
  },
  {
   "cell_type": "code",
   "execution_count": null,
   "metadata": {},
   "outputs": [],
   "source": [
    "M = np.float32([[1, 0, 25], [0, 1, 50]])\n",
    "shifted = cv2.warpAffine(image, M, (image.shape[1], image.shape[0]))\n",
    "cv2.imshow(\"Shifted Down and Right\", shifted)\n",
    "cv2.waitKey(0)"
   ]
  },
  {
   "cell_type": "markdown",
   "metadata": {},
   "source": [
    "###  Now, let's shift the image 50 pixels to the left and 90 pixels up. \n",
    "Hint: Accomplish this using negative values"
   ]
  },
  {
   "cell_type": "code",
   "execution_count": 10,
   "metadata": {},
   "outputs": [
    {
     "data": {
      "text/plain": [
       "13"
      ]
     },
     "execution_count": 10,
     "metadata": {},
     "output_type": "execute_result"
    }
   ],
   "source": [
    "M = np.float32([[1, 0, -50], [0, 1, -90]])\n",
    "shifted = cv2.warpAffine(image, M, (image.shape[1], image.shape[0]))\n",
    "cv2.imshow(\"Shifted Up and Left\", shifted)\n",
    "cv2.waitKey(0)"
   ]
  },
  {
   "cell_type": "markdown",
   "metadata": {},
   "source": [
    "### Finally, let's write a helper function **translate( )** to shift the image down 100 pixels\n",
    "\n",
    "Name of the function: translate\n",
    "Parameters: \n",
    "- image\n",
    "- x (no of pixels to shift along x-axis)\n",
    "- y (no of pixels to shift along y-axis)"
   ]
  },
  {
   "cell_type": "code",
   "execution_count": 12,
   "metadata": {},
   "outputs": [],
   "source": [
    "def translate(image, x, y):\n",
    "    M = np.float32([[1, 0, x], [0, 1, y]])\n",
    "    shifted = cv2.warpAffine(image, M, (image.shape[1], image.shape[0]))\n",
    "    return shifted"
   ]
  },
  {
   "cell_type": "code",
   "execution_count": 13,
   "metadata": {},
   "outputs": [
    {
     "data": {
      "text/plain": [
       "13"
      ]
     },
     "execution_count": 13,
     "metadata": {},
     "output_type": "execute_result"
    }
   ],
   "source": [
    "shifted = translate(image, 0, 100)\n",
    "cv2.imshow(\"Shifted Down\", shifted)\n",
    "cv2.waitKey(0)"
   ]
  },
  {
   "cell_type": "markdown",
   "metadata": {},
   "source": [
    "### Homework: Take any misaligned image and translate them to position correctly\n",
    "- Load the image\n",
    "- Display the image\n",
    "- Note the coordinates for correct positioning\n",
    "- Translate the image accordingly\n",
    "- Display the translated image"
   ]
  },
  {
   "cell_type": "code",
   "execution_count": null,
   "metadata": {},
   "outputs": [],
   "source": []
  }
 ],
 "metadata": {
  "kernelspec": {
   "display_name": "testing",
   "language": "python",
   "name": "testing"
  },
  "language_info": {
   "codemirror_mode": {
    "name": "ipython",
    "version": 3
   },
   "file_extension": ".py",
   "mimetype": "text/x-python",
   "name": "python",
   "nbconvert_exporter": "python",
   "pygments_lexer": "ipython3",
   "version": "3.8.5"
  }
 },
 "nbformat": 4,
 "nbformat_minor": 4
}
